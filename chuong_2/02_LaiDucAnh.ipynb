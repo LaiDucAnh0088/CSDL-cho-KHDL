{
 "cells": [
  {
   "cell_type": "code",
   "execution_count": 190,
   "metadata": {},
   "outputs": [],
   "source": [
    "import sqlite3 as sql\n",
    "from datetime import datetime, timedelta\n",
    "conn = sql.connect('Demo.db')\n",
    "cursor = conn.cursor()"
   ]
  },
  {
   "cell_type": "code",
   "execution_count": 191,
   "metadata": {},
   "outputs": [
    {
     "data": {
      "text/plain": [
       "<sqlite3.Cursor at 0x1f1c44a44c0>"
      ]
     },
     "execution_count": 191,
     "metadata": {},
     "output_type": "execute_result"
    }
   ],
   "source": [
    "cursor.execute('''\n",
    "Drop table student''')\n",
    "cursor.execute('''\n",
    "Drop table course''')\n",
    "cursor.execute('''\n",
    "create TABLE student (\n",
    "    student_id INT PRIMARY Key,\n",
    "    name VARCHAR(50),\n",
    "    class VARCHAR(50),\n",
    "    course_id INT,\n",
    "    score DECIMAL\n",
    ");''')\n",
    "cursor.execute('''CREATE TABLE course(\n",
    "    id INT PRIMARY KEY,\n",
    "    course_name VARCHAR(50)\n",
    ");''')\n",
    "cursor.execute('''INSERT INTO student VALUES\n",
    "    (1,'Nguyen Minh Hoang','May Tinh',12,6.7),\n",
    "    (2,'Tran Thi Lan','Kinh Te',34,9.2),\n",
    "    (3,'Pham Van Nam','Toan Tin',Null,7.9),\n",
    "    (4,'Le Thanh Huyen','Toan Tin',20,7.2),\n",
    "    (5,'Vu Quoc Anh','May Tinh',24,8.0),\n",
    "    (6,'Dang Thuy Linh','May Tinh',24,5.5),\n",
    "    (7,'Bui Tien Dung','Kinh Te',34,9.2),\n",
    "    (8,'Ho Ngoc Mai','Toan Tin',20,8.8),\n",
    "    (9,'Duong Huu Phuc','Kinh Te',Null,7.2),\n",
    "    (10,'Cao Thi Hanh','May Tinh',Null,7.0);''')\n",
    "cursor.execute('''INSERT INTO course VALUES\n",
    "    (12,'Giai Tich'),\n",
    "    (34,'Thong Ke'),\n",
    "    (26,'Tin Hoc');\n",
    "''')"
   ]
  },
  {
   "cell_type": "code",
   "execution_count": 192,
   "metadata": {},
   "outputs": [],
   "source": [
    "conn.commit()"
   ]
  },
  {
   "cell_type": "code",
   "execution_count": 193,
   "metadata": {},
   "outputs": [
    {
     "name": "stdout",
     "output_type": "stream",
     "text": [
      "Kết quả của tích Decartes:\n",
      "(1, 'Nguyen Minh Hoang', 'May Tinh', 12, 6.7, 12, 'Giai Tich')\n",
      "(1, 'Nguyen Minh Hoang', 'May Tinh', 12, 6.7, 34, 'Thong Ke')\n",
      "(1, 'Nguyen Minh Hoang', 'May Tinh', 12, 6.7, 26, 'Tin Hoc')\n",
      "(2, 'Tran Thi Lan', 'Kinh Te', 34, 9.2, 12, 'Giai Tich')\n",
      "(2, 'Tran Thi Lan', 'Kinh Te', 34, 9.2, 34, 'Thong Ke')\n",
      "(2, 'Tran Thi Lan', 'Kinh Te', 34, 9.2, 26, 'Tin Hoc')\n",
      "(3, 'Pham Van Nam', 'Toan Tin', None, 7.9, 12, 'Giai Tich')\n",
      "(3, 'Pham Van Nam', 'Toan Tin', None, 7.9, 34, 'Thong Ke')\n",
      "(3, 'Pham Van Nam', 'Toan Tin', None, 7.9, 26, 'Tin Hoc')\n",
      "(4, 'Le Thanh Huyen', 'Toan Tin', 20, 7.2, 12, 'Giai Tich')\n",
      "(4, 'Le Thanh Huyen', 'Toan Tin', 20, 7.2, 34, 'Thong Ke')\n",
      "(4, 'Le Thanh Huyen', 'Toan Tin', 20, 7.2, 26, 'Tin Hoc')\n",
      "(5, 'Vu Quoc Anh', 'May Tinh', 24, 8, 12, 'Giai Tich')\n",
      "(5, 'Vu Quoc Anh', 'May Tinh', 24, 8, 34, 'Thong Ke')\n",
      "(5, 'Vu Quoc Anh', 'May Tinh', 24, 8, 26, 'Tin Hoc')\n",
      "(6, 'Dang Thuy Linh', 'May Tinh', 24, 5.5, 12, 'Giai Tich')\n",
      "(6, 'Dang Thuy Linh', 'May Tinh', 24, 5.5, 34, 'Thong Ke')\n",
      "(6, 'Dang Thuy Linh', 'May Tinh', 24, 5.5, 26, 'Tin Hoc')\n",
      "(7, 'Bui Tien Dung', 'Kinh Te', 34, 9.2, 12, 'Giai Tich')\n",
      "(7, 'Bui Tien Dung', 'Kinh Te', 34, 9.2, 34, 'Thong Ke')\n",
      "(7, 'Bui Tien Dung', 'Kinh Te', 34, 9.2, 26, 'Tin Hoc')\n",
      "(8, 'Ho Ngoc Mai', 'Toan Tin', 20, 8.8, 12, 'Giai Tich')\n",
      "(8, 'Ho Ngoc Mai', 'Toan Tin', 20, 8.8, 34, 'Thong Ke')\n",
      "(8, 'Ho Ngoc Mai', 'Toan Tin', 20, 8.8, 26, 'Tin Hoc')\n",
      "(9, 'Duong Huu Phuc', 'Kinh Te', None, 7.2, 12, 'Giai Tich')\n",
      "(9, 'Duong Huu Phuc', 'Kinh Te', None, 7.2, 34, 'Thong Ke')\n",
      "(9, 'Duong Huu Phuc', 'Kinh Te', None, 7.2, 26, 'Tin Hoc')\n",
      "(10, 'Cao Thi Hanh', 'May Tinh', None, 7, 12, 'Giai Tich')\n",
      "(10, 'Cao Thi Hanh', 'May Tinh', None, 7, 34, 'Thong Ke')\n",
      "(10, 'Cao Thi Hanh', 'May Tinh', None, 7, 26, 'Tin Hoc')\n"
     ]
    }
   ],
   "source": [
    "cursor.execute('''\n",
    "SELECT * FROM student CROSS JOIN course''')\n",
    "print(\"Kết quả của tích Decartes:\")\n",
    "for row in cursor.fetchall():\n",
    "    print(row)"
   ]
  },
  {
   "cell_type": "code",
   "execution_count": 194,
   "metadata": {},
   "outputs": [
    {
     "name": "stdout",
     "output_type": "stream",
     "text": [
      "\n",
      "Kết quả của INNER JOIN:\n",
      "(1, 'Nguyen Minh Hoang', 'May Tinh', 12, 6.7, 12, 'Giai Tich')\n",
      "(2, 'Tran Thi Lan', 'Kinh Te', 34, 9.2, 34, 'Thong Ke')\n",
      "(7, 'Bui Tien Dung', 'Kinh Te', 34, 9.2, 34, 'Thong Ke')\n"
     ]
    }
   ],
   "source": [
    "cursor.execute('''\n",
    "SELECT * FROM student\n",
    "INNER JOIN course ON student.course_id = course.id''')\n",
    "print(\"\\nKết quả của INNER JOIN:\")\n",
    "for row in cursor.fetchall():\n",
    "    print(row)"
   ]
  },
  {
   "cell_type": "code",
   "execution_count": 195,
   "metadata": {},
   "outputs": [
    {
     "name": "stdout",
     "output_type": "stream",
     "text": [
      "\n",
      "Kết quả của LEFT JOIN:\n",
      "(1, 'Nguyen Minh Hoang', 'May Tinh', 12, 6.7, 12, 'Giai Tich')\n",
      "(2, 'Tran Thi Lan', 'Kinh Te', 34, 9.2, 34, 'Thong Ke')\n",
      "(3, 'Pham Van Nam', 'Toan Tin', None, 7.9, None, None)\n",
      "(4, 'Le Thanh Huyen', 'Toan Tin', 20, 7.2, None, None)\n",
      "(5, 'Vu Quoc Anh', 'May Tinh', 24, 8, None, None)\n",
      "(6, 'Dang Thuy Linh', 'May Tinh', 24, 5.5, None, None)\n",
      "(7, 'Bui Tien Dung', 'Kinh Te', 34, 9.2, 34, 'Thong Ke')\n",
      "(8, 'Ho Ngoc Mai', 'Toan Tin', 20, 8.8, None, None)\n",
      "(9, 'Duong Huu Phuc', 'Kinh Te', None, 7.2, None, None)\n",
      "(10, 'Cao Thi Hanh', 'May Tinh', None, 7, None, None)\n"
     ]
    }
   ],
   "source": [
    "cursor.execute('''\n",
    "SELECT * FROM student\n",
    "LEFT JOIN course ON student.course_id = course.id''')\n",
    "print(\"\\nKết quả của LEFT JOIN:\")\n",
    "for row in cursor.fetchall():\n",
    "    print(row)"
   ]
  },
  {
   "cell_type": "code",
   "execution_count": 196,
   "metadata": {},
   "outputs": [
    {
     "name": "stdout",
     "output_type": "stream",
     "text": [
      "\n",
      "Kết quả của RIGHT JOIN:\n",
      "(12, 'Giai Tich', 1, 'Nguyen Minh Hoang', 'May Tinh', 12, 6.7)\n",
      "(34, 'Thong Ke', 2, 'Tran Thi Lan', 'Kinh Te', 34, 9.2)\n",
      "(34, 'Thong Ke', 7, 'Bui Tien Dung', 'Kinh Te', 34, 9.2)\n",
      "(26, 'Tin Hoc', None, None, None, None, None)\n"
     ]
    }
   ],
   "source": [
    "cursor.execute('''\n",
    "SELECT * FROM course\n",
    "LEFT JOIN student ON student.course_id = course.id''')\n",
    "print(\"\\nKết quả của RIGHT JOIN:\")\n",
    "for row in cursor.fetchall():\n",
    "    print(row)"
   ]
  },
  {
   "cell_type": "code",
   "execution_count": 197,
   "metadata": {},
   "outputs": [
    {
     "name": "stdout",
     "output_type": "stream",
     "text": [
      "\n",
      "Kết quả của FULL OUTER JOIN:\n",
      "(1, 'Nguyen Minh Hoang', 'May Tinh', 12, 6.7, 12, 'Giai Tich')\n",
      "(2, 'Tran Thi Lan', 'Kinh Te', 34, 9.2, 34, 'Thong Ke')\n",
      "(3, 'Pham Van Nam', 'Toan Tin', None, 7.9, None, None)\n",
      "(4, 'Le Thanh Huyen', 'Toan Tin', 20, 7.2, None, None)\n",
      "(5, 'Vu Quoc Anh', 'May Tinh', 24, 8, None, None)\n",
      "(6, 'Dang Thuy Linh', 'May Tinh', 24, 5.5, None, None)\n",
      "(7, 'Bui Tien Dung', 'Kinh Te', 34, 9.2, 34, 'Thong Ke')\n",
      "(8, 'Ho Ngoc Mai', 'Toan Tin', 20, 8.8, None, None)\n",
      "(9, 'Duong Huu Phuc', 'Kinh Te', None, 7.2, None, None)\n",
      "(10, 'Cao Thi Hanh', 'May Tinh', None, 7, None, None)\n",
      "(12, 'Giai Tich', 1, 'Nguyen Minh Hoang', 'May Tinh', 12, 6.7)\n",
      "(26, 'Tin Hoc', None, None, None, None, None)\n",
      "(34, 'Thong Ke', 2, 'Tran Thi Lan', 'Kinh Te', 34, 9.2)\n",
      "(34, 'Thong Ke', 7, 'Bui Tien Dung', 'Kinh Te', 34, 9.2)\n"
     ]
    }
   ],
   "source": [
    "cursor.execute('''\n",
    "SELECT * FROM student\n",
    "LEFT JOIN course ON student.course_id = course.id\n",
    "UNION\n",
    "SELECT * FROM course\n",
    "LEFT JOIN student ON student.course_id = course.id''')\n",
    "print(\"\\nKết quả của FULL OUTER JOIN:\")\n",
    "for row in cursor.fetchall():\n",
    "    print(row)"
   ]
  },
  {
   "cell_type": "code",
   "execution_count": 198,
   "metadata": {},
   "outputs": [
    {
     "name": "stdout",
     "output_type": "stream",
     "text": [
      "(1, 'Nguyen Minh Hoang', 'May Tinh', 12, 6.7)\n",
      "(2, 'Tran Thi Lan', 'Kinh Te', 34, 9.2)\n",
      "(3, 'Pham Van Nam', 'Toan Tin', 26, 7.9)\n",
      "(7, 'Bui Tien Dung', 'Kinh Te', 34, 9.2)\n",
      "(9, 'Duong Huu Phuc', 'Kinh Te', 26, 7.2)\n",
      "(10, 'Cao Thi Hanh', 'May Tinh', 26, 7)\n"
     ]
    }
   ],
   "source": [
    "cursor.execute('''\n",
    "UPDATE student\n",
    "SET course_id = 26\n",
    "WHERE student.course_id IS NULL;\n",
    "''')\n",
    "cursor.execute('''\n",
    "DELETE FROM student\n",
    "WHERE course_id NOT IN (SELECT id FROM course);\n",
    "''')\n",
    "cursor.execute('''\n",
    "select * from student''')\n",
    "for row in cursor.fetchall():\n",
    "    print(row)\n",
    "conn.commit()"
   ]
  },
  {
   "cell_type": "code",
   "execution_count": 199,
   "metadata": {},
   "outputs": [
    {
     "name": "stdout",
     "output_type": "stream",
     "text": [
      "\n",
      "Tổng số sinh viên và điểm trung bình của từng lớp:\n",
      "('Kinh Te', 3, 8.533333333333333)\n",
      "('May Tinh', 2, 6.85)\n",
      "('Toan Tin', 1, 7.9)\n"
     ]
    }
   ],
   "source": [
    "cursor.execute('''\n",
    "SELECT class, COUNT(*) AS total_student, AVG(score) AS average_score\n",
    "FROM student\n",
    "GROUP BY class;''')\n",
    "print(\"\\nTổng số sinh viên và điểm trung bình của từng lớp:\")\n",
    "for row in cursor.fetchall():\n",
    "    print(row)"
   ]
  },
  {
   "cell_type": "code",
   "execution_count": 200,
   "metadata": {},
   "outputs": [
    {
     "name": "stdout",
     "output_type": "stream",
     "text": [
      "\n",
      "Tổng số sinh viên và điểm trung bình của từng môn học:\n",
      "('Giai Tich', 1, 6.7)\n",
      "('Thong Ke', 2, 9.2)\n",
      "('Tin Hoc', 3, 7.366666666666667)\n"
     ]
    }
   ],
   "source": [
    "cursor.execute('''\n",
    "SELECT course_name, COUNT(*) AS total_student, AVG(score) AS average_score\n",
    "FROM student\n",
    "JOIN course ON student.course_id = course.id\n",
    "GROUP BY course_name;''')\n",
    "print(\"\\nTổng số sinh viên và điểm trung bình của từng môn học:\")\n",
    "for row in cursor.fetchall():\n",
    "    print(row)"
   ]
  },
  {
   "cell_type": "code",
   "execution_count": 201,
   "metadata": {},
   "outputs": [
    {
     "name": "stdout",
     "output_type": "stream",
     "text": [
      "\n",
      "Phân loại thi đua theo số điểm của từng môn học:\n",
      "('Giai Tich', 6.7, 'Tốt')\n",
      "('Thong Ke', 9.2, 'Xuất sắc')\n",
      "('Tin Hoc', 7.366666666666667, 'Tốt')\n"
     ]
    }
   ],
   "source": [
    "cursor.execute('''\n",
    "SELECT course_name, AVG(score) AS average_score,\n",
    "CASE\n",
    "    WHEN AVG(score) >= 9.0 THEN 'Xuất sắc'\n",
    "    WHEN AVG(score) BETWEEN 6.0 AND 8.9 THEN 'Tốt'\n",
    "    ELSE 'Kém'\n",
    "END AS rank\n",
    "FROM student\n",
    "JOIN course ON student.course_id = course.id\n",
    "GROUP BY course_name;''')\n",
    "print(\"\\nPhân loại thi đua theo số điểm của từng môn học:\")\n",
    "for row in cursor.fetchall():\n",
    "    print(row)"
   ]
  },
  {
   "cell_type": "code",
   "execution_count": 202,
   "metadata": {},
   "outputs": [
    {
     "name": "stdout",
     "output_type": "stream",
     "text": [
      "Top 3 sinh viên đạt thứ hạng cao nhất theo điểm số tổng thể:\n",
      "(2, 'Tran Thi Lan', 9.2, 1)\n",
      "(7, 'Bui Tien Dung', 9.2, 1)\n",
      "(3, 'Pham Van Nam', 7.9, 3)\n",
      "\n",
      "Top 3 sinh viên đạt thứ hạng thấp nhất theo điểm số tổng thể:\n",
      "(1, 'Nguyen Minh Hoang', 6.7, 6)\n",
      "(10, 'Cao Thi Hanh', 7, 5)\n",
      "(9, 'Duong Huu Phuc', 7.2, 4)\n"
     ]
    }
   ],
   "source": [
    "cursor.execute('ALTER TABLE student ADD COLUMN overall_rank INTEGER')\n",
    "cursor.execute('''\n",
    "WITH Rankedstudent AS (\n",
    "    SELECT student_id, score, \n",
    "    RANK() OVER (ORDER BY score DESC) AS rank\n",
    "    FROM student\n",
    ")\n",
    "UPDATE student\n",
    "SET overall_rank = (SELECT rank FROM Rankedstudent WHERE student.student_id = Rankedstudent.student_id)\n",
    "''')\n",
    "cursor.execute('''\n",
    "SELECT student_id, name, score, overall_rank\n",
    "FROM student\n",
    "ORDER BY overall_rank ASC\n",
    "LIMIT 3\n",
    "''')\n",
    "print(\"Top 3 sinh viên đạt thứ hạng cao nhất theo điểm số tổng thể:\")\n",
    "for row in cursor.fetchall():\n",
    "    print(row)\n",
    "cursor.execute('''\n",
    "SELECT student_id, name, score, overall_rank\n",
    "FROM student\n",
    "ORDER BY overall_rank DESC\n",
    "LIMIT 3\n",
    "''')\n",
    "print(\"\\nTop 3 sinh viên đạt thứ hạng thấp nhất theo điểm số tổng thể:\")\n",
    "for row in cursor.fetchall():\n",
    "    print(row)\n"
   ]
  },
  {
   "cell_type": "code",
   "execution_count": 203,
   "metadata": {},
   "outputs": [
    {
     "name": "stdout",
     "output_type": "stream",
     "text": [
      "\n",
      "Xếp hạng sinh viên theo điểm số trong từng lớp học:\n",
      "(1, 'Nguyen Minh Hoang', 'May Tinh', 12, 6.7, 6, 2)\n",
      "(2, 'Tran Thi Lan', 'Kinh Te', 34, 9.2, 1, 1)\n",
      "(3, 'Pham Van Nam', 'Toan Tin', 26, 7.9, 3, 1)\n",
      "(7, 'Bui Tien Dung', 'Kinh Te', 34, 9.2, 1, 1)\n",
      "(9, 'Duong Huu Phuc', 'Kinh Te', 26, 7.2, 4, 3)\n",
      "(10, 'Cao Thi Hanh', 'May Tinh', 26, 7, 5, 1)\n",
      "\n",
      "Top 3 sinh viên đạt thứ hạng cao nhất theo điểm số trong từng lớp học:\n",
      "(2, 'Tran Thi Lan', 'Kinh Te', 9.2, 1)\n",
      "(7, 'Bui Tien Dung', 'Kinh Te', 9.2, 1)\n",
      "(9, 'Duong Huu Phuc', 'Kinh Te', 7.2, 3)\n",
      "(10, 'Cao Thi Hanh', 'May Tinh', 7, 1)\n",
      "(1, 'Nguyen Minh Hoang', 'May Tinh', 6.7, 2)\n",
      "(3, 'Pham Van Nam', 'Toan Tin', 7.9, 1)\n",
      "\n",
      "Top 3 sinh viên đạt thứ hạng thấp nhất theo điểm số trong từng lớp học:\n",
      "(9, 'Duong Huu Phuc', 'Kinh Te', 7.2, 3)\n",
      "(2, 'Tran Thi Lan', 'Kinh Te', 9.2, 1)\n",
      "(7, 'Bui Tien Dung', 'Kinh Te', 9.2, 1)\n",
      "(1, 'Nguyen Minh Hoang', 'May Tinh', 6.7, 2)\n",
      "(10, 'Cao Thi Hanh', 'May Tinh', 7, 1)\n",
      "(3, 'Pham Van Nam', 'Toan Tin', 7.9, 1)\n"
     ]
    }
   ],
   "source": [
    "cursor.execute('ALTER TABLE student ADD COLUMN class_rank INTEGER')\n",
    "cursor.execute('''\n",
    "WITH Rankedstudent AS (\n",
    "    SELECT student_id, class, score, \n",
    "    RANK() OVER (PARTITION BY class ORDER BY score DESC) AS rank\n",
    "    FROM student\n",
    ")\n",
    "UPDATE student\n",
    "SET class_rank = (SELECT rank FROM Rankedstudent WHERE student.student_id = Rankedstudent.student_id)\n",
    "''')\n",
    "cursor.execute('''\n",
    "Select * from student''')\n",
    "print(\"\\nXếp hạng sinh viên theo điểm số trong từng lớp học:\")\n",
    "for row in cursor.fetchall():\n",
    "    print(row)\n",
    "cursor.execute('''\n",
    "SELECT student_id, name, class, score, class_rank\n",
    "FROM student\n",
    "WHERE class_rank <= 3\n",
    "ORDER BY class, class_rank ASC\n",
    "''')\n",
    "print(\"\\nTop 3 sinh viên đạt thứ hạng cao nhất theo điểm số trong từng lớp học:\")\n",
    "for row in cursor.fetchall():\n",
    "    print(row)\n",
    "cursor.execute('''\n",
    "SELECT student_id, name, class, score, class_rank\n",
    "FROM student\n",
    "WHERE class_rank >= (SELECT MAX(class_rank) FROM student WHERE class = student.class) - 2\n",
    "ORDER BY class, class_rank DESC\n",
    "''')\n",
    "print(\"\\nTop 3 sinh viên đạt thứ hạng thấp nhất theo điểm số trong từng lớp học:\")\n",
    "for row in cursor.fetchall():\n",
    "    print(row)\n"
   ]
  },
  {
   "cell_type": "code",
   "execution_count": 204,
   "metadata": {},
   "outputs": [
    {
     "name": "stdout",
     "output_type": "stream",
     "text": [
      "\n",
      "Xếp hạng sinh viên theo điểm số trong từng môn học:\n",
      "(1, 'Nguyen Minh Hoang', 'May Tinh', 12, 6.7, 6, 2, 1)\n",
      "(2, 'Tran Thi Lan', 'Kinh Te', 34, 9.2, 1, 1, 1)\n",
      "(3, 'Pham Van Nam', 'Toan Tin', 26, 7.9, 3, 1, 1)\n",
      "(7, 'Bui Tien Dung', 'Kinh Te', 34, 9.2, 1, 1, 1)\n",
      "(9, 'Duong Huu Phuc', 'Kinh Te', 26, 7.2, 4, 3, 2)\n",
      "(10, 'Cao Thi Hanh', 'May Tinh', 26, 7, 5, 1, 3)\n",
      "\n",
      "Top 3 sinh viên đạt thứ hạng cao nhất theo điểm số trong từng môn học:\n",
      "(1, 'Nguyen Minh Hoang', 12, 6.7, 1)\n",
      "(3, 'Pham Van Nam', 26, 7.9, 1)\n",
      "(9, 'Duong Huu Phuc', 26, 7.2, 2)\n",
      "(10, 'Cao Thi Hanh', 26, 7, 3)\n",
      "(2, 'Tran Thi Lan', 34, 9.2, 1)\n",
      "(7, 'Bui Tien Dung', 34, 9.2, 1)\n",
      "\n",
      "Top 3 sinh viên đạt thứ hạng thấp nhất theo điểm số trong từng môn học:\n",
      "(1, 'Nguyen Minh Hoang', 12, 6.7, 1)\n",
      "(10, 'Cao Thi Hanh', 26, 7, 3)\n",
      "(9, 'Duong Huu Phuc', 26, 7.2, 2)\n",
      "(3, 'Pham Van Nam', 26, 7.9, 1)\n",
      "(2, 'Tran Thi Lan', 34, 9.2, 1)\n",
      "(7, 'Bui Tien Dung', 34, 9.2, 1)\n"
     ]
    }
   ],
   "source": [
    "cursor.execute('ALTER TABLE student ADD COLUMN course_rank INTEGER')\n",
    "cursor.execute('''\n",
    "WITH Rankedstudent AS (\n",
    "    SELECT student_id, course_id, score, \n",
    "    RANK() OVER (PARTITION BY course_id ORDER BY score DESC) AS rank\n",
    "    FROM student\n",
    ")\n",
    "UPDATE student\n",
    "SET course_rank = (SELECT rank FROM Rankedstudent WHERE student.student_id = Rankedstudent.student_id)\n",
    "''')\n",
    "cursor.execute('''\n",
    "select * from student''')\n",
    "print(\"\\nXếp hạng sinh viên theo điểm số trong từng môn học:\")\n",
    "for row in cursor.fetchall():\n",
    "    print(row)\n",
    "cursor.execute('''\n",
    "SELECT student_id, name, course_id, score, course_rank\n",
    "FROM student\n",
    "WHERE course_rank <= 3\n",
    "ORDER BY course_id, course_rank ASC\n",
    "''')\n",
    "print(\"\\nTop 3 sinh viên đạt thứ hạng cao nhất theo điểm số trong từng môn học:\")\n",
    "for row in cursor.fetchall():\n",
    "    print(row)\n",
    "cursor.execute('''\n",
    "SELECT student_id, name, course_id, score, course_rank\n",
    "FROM student\n",
    "WHERE course_rank >= (SELECT MAX(course_rank) FROM student WHERE course_id = student.course_id) - 2\n",
    "ORDER BY course_id, course_rank DESC\n",
    "''')\n",
    "print(\"\\nTop 3 sinh viên đạt thứ hạng thấp nhất theo điểm số trong từng môn học:\")\n",
    "for row in cursor.fetchall():\n",
    "    print(row)\n"
   ]
  },
  {
   "cell_type": "code",
   "execution_count": 205,
   "metadata": {},
   "outputs": [
    {
     "name": "stdout",
     "output_type": "stream",
     "text": [
      "Danh sách sinh viên và thời gian tốt nghiệp:\n",
      "(1, 'Nguyen Minh Hoang', 6.7, '2025-03-19 22:38:13.564188')\n",
      "(2, 'Tran Thi Lan', 9.2, '2025-03-14 22:38:13.564188')\n",
      "(3, 'Pham Van Nam', 7.9, '2025-03-16 22:38:13.564188')\n",
      "(7, 'Bui Tien Dung', 9.2, '2025-03-15 22:38:13.564188')\n",
      "(9, 'Duong Huu Phuc', 7.2, '2025-03-17 22:38:13.564188')\n",
      "(10, 'Cao Thi Hanh', 7, '2025-03-18 22:38:13.564188')\n"
     ]
    },
    {
     "name": "stderr",
     "output_type": "stream",
     "text": [
      "C:\\Users\\DELL\\AppData\\Local\\Temp\\ipykernel_12624\\2185000986.py:11: DeprecationWarning: The default datetime adapter is deprecated as of Python 3.12; see the sqlite3 documentation for suggested replacement recipes\n",
      "  cursor.execute('''\n"
     ]
    }
   ],
   "source": [
    "cursor.execute('''\n",
    "ALTER TABLE student ADD COLUMN graduation_date DATETIME\n",
    "''')\n",
    "cursor.execute('''\n",
    "SELECT student_id, score FROM student ORDER BY score DESC\n",
    "''')\n",
    "ranked_students = cursor.fetchall()\n",
    "current_date = datetime.now()\n",
    "for rank, (student_id, score) in enumerate(ranked_students, start=1):\n",
    "    graduation_date = current_date + timedelta(days=rank)\n",
    "    cursor.execute('''\n",
    "    UPDATE student\n",
    "    SET graduation_date = ?\n",
    "    WHERE student_id = ?\n",
    "    ''', (graduation_date, student_id))\n",
    "conn.commit()\n",
    "cursor.execute('SELECT student_id, name, score, graduation_date FROM student')\n",
    "print(\"Danh sách sinh viên và thời gian tốt nghiệp:\")\n",
    "for row in cursor.fetchall():\n",
    "    print(row)\n",
    "conn.close()\n"
   ]
  }
 ],
 "metadata": {
  "kernelspec": {
   "display_name": "base",
   "language": "python",
   "name": "python3"
  },
  "language_info": {
   "codemirror_mode": {
    "name": "ipython",
    "version": 3
   },
   "file_extension": ".py",
   "mimetype": "text/x-python",
   "name": "python",
   "nbconvert_exporter": "python",
   "pygments_lexer": "ipython3",
   "version": "3.12.7"
  }
 },
 "nbformat": 4,
 "nbformat_minor": 2
}
