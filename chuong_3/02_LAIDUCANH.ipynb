{
 "cells": [
  {
   "cell_type": "code",
   "execution_count": 3,
   "id": "bf78d5ce",
   "metadata": {},
   "outputs": [
    {
     "name": "stdout",
     "output_type": "stream",
     "text": [
      "Hệ số tương quan Pearson giữa A và B là: 0.0022222222222222222\n"
     ]
    }
   ],
   "source": [
    "import sqlite3\n",
    "conn = sqlite3.connect('demo.db') \n",
    "cursor = conn.cursor()\n",
    "cursor.execute('''\n",
    "    CREATE TABLE IF NOT EXISTS Bang1 (\n",
    "        A REAL,\n",
    "        B REAL\n",
    "    );\n",
    "''')\n",
    "cursor.executemany('''\n",
    "    INSERT INTO Bang1 (A, B)\n",
    "    VALUES (?, ?);\n",
    "''', [\n",
    "    (1, 2),\n",
    "    (2, 3),\n",
    "    (3, 4),\n",
    "    (4, 5),\n",
    "    (5, 6)])\n",
    "conn.commit()\n",
    "cursor.execute('''\n",
    "    SELECT \n",
    "        (COUNT(*) * SUM(A * B) - SUM(A) * SUM(B)) / \n",
    "        (\n",
    "            (COUNT(*) * SUM(A * A) - SUM(A)*SUM(A)) * \n",
    "            (COUNT(*) * SUM(B * B) - SUM(B)*SUM(B))\n",
    "        ) AS correlation_coefficient\n",
    "    FROM \n",
    "        Bang1;\n",
    "''')\n",
    "correlation_coefficient = cursor.fetchone()[0]\n",
    "print(f'Hệ số tương quan Pearson giữa A và B là: {correlation_coefficient}')"
   ]
  },
  {
   "cell_type": "code",
   "execution_count": 4,
   "id": "5cb7224d",
   "metadata": {},
   "outputs": [
    {
     "name": "stdout",
     "output_type": "stream",
     "text": [
      "Bảng dữ liệu:\n",
      " model    A    B    C\n",
      "day                 \n",
      "Day 1  8.0  9.0  7.0\n",
      "Day 2  7.5  8.5  7.0\n",
      "Day 3  6.0  7.0  8.0\n",
      "Day 4  7.0  6.0  5.0\n",
      "\n",
      "Thống kê Chi-Square: 0.826439691310499\n",
      "Giá trị P: 0.9913459315666546\n",
      "Bậc tự do: 6\n",
      "Tần suất kỳ vọng:\n",
      " [[7.95348837 8.51162791 7.53488372]\n",
      " [7.62209302 8.15697674 7.22093023]\n",
      " [6.95930233 7.44767442 6.59302326]\n",
      " [5.96511628 6.38372093 5.65116279]]\n"
     ]
    }
   ],
   "source": [
    "import pandas as pd\n",
    "import scipy.stats as stats\n",
    "cursor.execute('''\n",
    "    CREATE TABLE car_scores (\n",
    "        day TEXT,\n",
    "        model TEXT,\n",
    "        score REAL\n",
    "    )\n",
    "''')\n",
    "data = [\n",
    "    ('Day 1', 'A', 8), ('Day 1', 'B', 9), ('Day 1', 'C', 7),\n",
    "    ('Day 2', 'A', 7.5), ('Day 2', 'B', 8.5), ('Day 2', 'C', 7),\n",
    "    ('Day 3', 'A', 6), ('Day 3', 'B', 7), ('Day 3', 'C', 8),\n",
    "    ('Day 4', 'A', 7), ('Day 4', 'B', 6), ('Day 4', 'C', 5)]\n",
    "cursor.executemany('INSERT INTO car_scores (day, model, score) VALUES (?, ?, ?)', data)\n",
    "conn.commit()\n",
    "df = pd.read_sql_query('''SELECT * FROM car_scores''', conn)\n",
    "pivot_table = df.pivot(index='day', columns='model', values='score')\n",
    "chi2_stat, p_value, dof, expected = stats.chi2_contingency(pivot_table)\n",
    "print('Bảng dữ liệu:\\n', pivot_table)\n",
    "print('\\nThống kê Chi-Square:', chi2_stat)\n",
    "print('Giá trị P:', p_value)\n",
    "print('Bậc tự do:', dof)\n",
    "print('Tần suất kỳ vọng:\\n', expected)"
   ]
  },
  {
   "cell_type": "code",
   "execution_count": 5,
   "id": "7d944d9f",
   "metadata": {},
   "outputs": [
    {
     "name": "stdout",
     "output_type": "stream",
     "text": [
      "(1, 830, '08:30 AM')\n",
      "(2, 1445, '02:45 PM')\n",
      "(3, 1230, '00:30 PM')\n",
      "(4, 700, '07:00 AM')\n",
      "(5, 2200, '10:00 PM')\n"
     ]
    }
   ],
   "source": [
    "cursor.execute('CREATE TABLE flights (id INTEGER PRIMARY KEY, departure_time INTEGER)')\n",
    "data = [(1, 830), (2, 1445), (3, 1230), (4, 700), (5, 2200)]\n",
    "cursor.executemany('INSERT INTO flights (id, departure_time) VALUES (?, ?)', data)\n",
    "conn.commit()\n",
    "cursor.execute('''\n",
    "SELECT id, departure_time,\n",
    "       printf('%02d:%02d %s', \n",
    "              departure_time / 100 % 12, \n",
    "              departure_time % 100, \n",
    "              CASE WHEN departure_time / 100 >= 12 THEN 'PM' ELSE 'AM' END\n",
    "       ) AS formatted_time\n",
    "FROM flights\n",
    "''')\n",
    "for row in cursor.fetchall():\n",
    "    print(row)"
   ]
  },
  {
   "cell_type": "code",
   "execution_count": 6,
   "id": "bc7ca769",
   "metadata": {},
   "outputs": [
    {
     "name": "stdout",
     "output_type": "stream",
     "text": [
      "Trung vị (Median): 1100.0\n",
      "MAD: 130.0\n",
      "Các ngoại lệ:\n",
      "Value: 830, Absolute Deviation: 270.0\n"
     ]
    }
   ],
   "source": [
    "import numpy as np\n",
    "cursor.execute('''\n",
    "    CREATE TABLE IF NOT EXISTS data_table (\n",
    "        id INTEGER PRIMARY KEY,\n",
    "        value INTEGER\n",
    "    )\n",
    "''')\n",
    "cursor.executemany('''\n",
    "    INSERT INTO data_table (value)\n",
    "    VALUES (?)\n",
    "''', [(830,), (1111,), (930,), (1230,), (1100,)])\n",
    "conn.commit()\n",
    "cursor.execute('''\n",
    "    SELECT value\n",
    "    FROM data_table\n",
    "''')\n",
    "values = [row[0] for row in cursor.fetchall()]\n",
    "median_value = np.median(values)\n",
    "deviations = [abs(value - median_value) for value in values]\n",
    "mad_value = np.median(deviations)\n",
    "outliers = []\n",
    "for i, deviation in enumerate(deviations):\n",
    "    if deviation > 1.5 * mad_value:\n",
    "        outliers.append((values[i], deviation))\n",
    "print(f'Trung vị (Median): {median_value}')\n",
    "print(f'MAD: {mad_value}')\n",
    "print('Các ngoại lệ:')\n",
    "for outlier in outliers:\n",
    "    print(f'Value: {outlier[0]}, Absolute Deviation: {outlier[1]}')"
   ]
  },
  {
   "cell_type": "code",
   "execution_count": 7,
   "id": "ec5a6e2e",
   "metadata": {},
   "outputs": [
    {
     "name": "stdout",
     "output_type": "stream",
     "text": [
      "So sánh các cặp người:\n",
      "Smith và Johnson (Trọng lượng: 70.0, 70.0) => Total Distance: 1\n",
      " -> Cả hai không phải là một người.\n",
      "Smith và Smith (Trọng lượng: 70.0, 70.0) => Total Distance: 0\n",
      " -> Cả hai là một người.\n",
      "Smith và Johnson (Trọng lượng: 70.0, 80.0) => Total Distance: 2\n",
      " -> Cả hai không phải là một người.\n",
      "Smith và Smith (Trọng lượng: 70.0, 72.0) => Total Distance: 1\n",
      " -> Cả hai không phải là một người.\n",
      "Johnson và Smith (Trọng lượng: 70.0, 70.0) => Total Distance: 1\n",
      " -> Cả hai không phải là một người.\n",
      "Johnson và Johnson (Trọng lượng: 70.0, 80.0) => Total Distance: 1\n",
      " -> Cả hai không phải là một người.\n",
      "Johnson và Smith (Trọng lượng: 70.0, 72.0) => Total Distance: 2\n",
      " -> Cả hai không phải là một người.\n",
      "Smith và Johnson (Trọng lượng: 70.0, 80.0) => Total Distance: 2\n",
      " -> Cả hai không phải là một người.\n",
      "Smith và Smith (Trọng lượng: 70.0, 72.0) => Total Distance: 1\n",
      " -> Cả hai không phải là một người.\n",
      "Johnson và Smith (Trọng lượng: 80.0, 72.0) => Total Distance: 2\n",
      " -> Cả hai không phải là một người.\n"
     ]
    }
   ],
   "source": [
    "cursor.execute('''\n",
    "    CREATE TABLE IF NOT EXISTS Patient (\n",
    "        id INTEGER PRIMARY KEY,\n",
    "        last_name TEXT,\n",
    "        weight REAL,\n",
    "        height REAL\n",
    "    )\n",
    "''')\n",
    "cursor.executemany('''\n",
    "    INSERT INTO Patient (last_name, weight, height)\n",
    "    VALUES (?, ?, ?)\n",
    "''', [\n",
    "    ('Smith', 70, 170),\n",
    "    ('Johnson', 70, 175),\n",
    "    ('Smith', 70, 165),\n",
    "    ('Johnson', 80, 180),\n",
    "    ('Smith', 72, 168)\n",
    "])\n",
    "conn.commit()\n",
    "cursor.execute('''\n",
    "    SELECT \n",
    "        p1.last_name AS last_name1,\n",
    "        p1.weight AS weight1,\n",
    "        p2.last_name AS last_name2,\n",
    "        p2.weight AS weight2,\n",
    "        CASE \n",
    "            WHEN p1.last_name = p2.last_name THEN 0 ELSE 1 \n",
    "        END AS last_name_distance,\n",
    "        CASE \n",
    "            WHEN p1.weight = p2.weight THEN 0 ELSE 1 \n",
    "        END AS weight_distance,\n",
    "        (CASE \n",
    "            WHEN p1.last_name = p2.last_name THEN 0 ELSE 1 \n",
    "        END + CASE \n",
    "            WHEN p1.weight = p2.weight THEN 0 ELSE 1 \n",
    "        END) AS total_distance\n",
    "    FROM Patient p1\n",
    "    CROSS JOIN Patient p2\n",
    "    WHERE p1.id < p2.id;\n",
    "''')\n",
    "matches = cursor.fetchall()\n",
    "print('So sánh các cặp người:')\n",
    "for match in matches:\n",
    "    last_name_distance = match[4]\n",
    "    weight_distance = match[5]\n",
    "    total_distance = match[6]\n",
    "    print(f'{match[0]} và {match[2]} (Trọng lượng: {match[1]}, {match[3]}) => Total Distance: {total_distance}')\n",
    "    if total_distance == 0:\n",
    "        print(f' -> Cả hai là một người.')\n",
    "    else:\n",
    "        print(f' -> Cả hai không phải là một người.')\n",
    "conn.close()\n"
   ]
  }
 ],
 "metadata": {
  "kernelspec": {
   "display_name": "base",
   "language": "python",
   "name": "python3"
  },
  "language_info": {
   "codemirror_mode": {
    "name": "ipython",
    "version": 3
   },
   "file_extension": ".py",
   "mimetype": "text/x-python",
   "name": "python",
   "nbconvert_exporter": "python",
   "pygments_lexer": "ipython3",
   "version": "3.12.7"
  }
 },
 "nbformat": 4,
 "nbformat_minor": 5
}
